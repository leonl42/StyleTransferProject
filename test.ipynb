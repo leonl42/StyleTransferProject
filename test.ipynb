{
 "cells": [
  {
   "cell_type": "code",
   "execution_count": 8,
   "metadata": {},
   "outputs": [
    {
     "ename": "RuntimeError",
     "evalue": "Expected size for first two dimensions of batch2 tensor to be: [5, 2886] but got: [5, 8].",
     "output_type": "error",
     "traceback": [
      "\u001b[1;31m---------------------------------------------------------------------------\u001b[0m",
      "\u001b[1;31mRuntimeError\u001b[0m                              Traceback (most recent call last)",
      "Cell \u001b[1;32mIn[8], line 9\u001b[0m\n\u001b[0;32m      6\u001b[0m a \u001b[39m=\u001b[39m torch\u001b[39m.\u001b[39mrand(\u001b[39m5\u001b[39m,\u001b[39m8\u001b[39m,\u001b[39m37\u001b[39m,\u001b[39m78\u001b[39m)\n\u001b[0;32m      7\u001b[0m b \u001b[39m=\u001b[39m torch\u001b[39m.\u001b[39mrand(\u001b[39m5\u001b[39m,\u001b[39m8\u001b[39m,\u001b[39m37\u001b[39m,\u001b[39m78\u001b[39m)\n\u001b[1;32m----> 9\u001b[0m \u001b[39mprint\u001b[39m(\u001b[39m\"\u001b[39m\u001b[39md: \u001b[39m\u001b[39m\"\u001b[39m, san(a,b)\u001b[39m.\u001b[39msize())\n",
      "File \u001b[1;32m~\\AppData\\Roaming\\Python\\Python39\\site-packages\\torch\\nn\\modules\\module.py:1501\u001b[0m, in \u001b[0;36mModule._call_impl\u001b[1;34m(self, *args, **kwargs)\u001b[0m\n\u001b[0;32m   1496\u001b[0m \u001b[39m# If we don't have any hooks, we want to skip the rest of the logic in\u001b[39;00m\n\u001b[0;32m   1497\u001b[0m \u001b[39m# this function, and just call forward.\u001b[39;00m\n\u001b[0;32m   1498\u001b[0m \u001b[39mif\u001b[39;00m \u001b[39mnot\u001b[39;00m (\u001b[39mself\u001b[39m\u001b[39m.\u001b[39m_backward_hooks \u001b[39mor\u001b[39;00m \u001b[39mself\u001b[39m\u001b[39m.\u001b[39m_backward_pre_hooks \u001b[39mor\u001b[39;00m \u001b[39mself\u001b[39m\u001b[39m.\u001b[39m_forward_hooks \u001b[39mor\u001b[39;00m \u001b[39mself\u001b[39m\u001b[39m.\u001b[39m_forward_pre_hooks\n\u001b[0;32m   1499\u001b[0m         \u001b[39mor\u001b[39;00m _global_backward_pre_hooks \u001b[39mor\u001b[39;00m _global_backward_hooks\n\u001b[0;32m   1500\u001b[0m         \u001b[39mor\u001b[39;00m _global_forward_hooks \u001b[39mor\u001b[39;00m _global_forward_pre_hooks):\n\u001b[1;32m-> 1501\u001b[0m     \u001b[39mreturn\u001b[39;00m forward_call(\u001b[39m*\u001b[39margs, \u001b[39m*\u001b[39m\u001b[39m*\u001b[39mkwargs)\n\u001b[0;32m   1502\u001b[0m \u001b[39m# Do not call functions when jit is used\u001b[39;00m\n\u001b[0;32m   1503\u001b[0m full_backward_hooks, non_full_backward_hooks \u001b[39m=\u001b[39m [], []\n",
      "File \u001b[1;32mc:\\Users\\Leon\\Documents\\StyleTransferProject\\utils\\model.py:152\u001b[0m, in \u001b[0;36mSANet.forward\u001b[1;34m(self, f_c, f_s)\u001b[0m\n\u001b[0;32m    148\u001b[0m h_s \u001b[39m=\u001b[39m \u001b[39mself\u001b[39m\u001b[39m.\u001b[39mconv3(f_s)\u001b[39m.\u001b[39mview(b,c,\u001b[39m-\u001b[39m\u001b[39m1\u001b[39m)\n\u001b[0;32m    150\u001b[0m attn_map \u001b[39m=\u001b[39m torch\u001b[39m.\u001b[39mbmm(g_s,torch\u001b[39m.\u001b[39mtranspose(f_c,\u001b[39m1\u001b[39m,\u001b[39m2\u001b[39m))\n\u001b[1;32m--> 152\u001b[0m \u001b[39mreturn\u001b[39;00m torch\u001b[39m.\u001b[39;49mbmm(h_s,attn_map)\u001b[39m.\u001b[39mview(b,c,w,h)\n",
      "\u001b[1;31mRuntimeError\u001b[0m: Expected size for first two dimensions of batch2 tensor to be: [5, 2886] but got: [5, 8]."
     ]
    }
   ],
   "source": [
    "import torch\n",
    "from utils.model import SANet\n",
    "%load_ext autoreload\n",
    "%autoreload 2\n",
    "\n",
    "san = SANet(8)\n",
    "a = torch.rand(5,8,37,78)\n",
    "b = torch.rand(5,8,37,78)\n",
    "\n",
    "print(\"d: \", san(a,b).size())\n"
   ]
  },
  {
   "cell_type": "code",
   "execution_count": 18,
   "metadata": {},
   "outputs": [
    {
     "name": "stdout",
     "output_type": "stream",
     "text": [
      "torch.Size([16, 32, 256, 128])\n",
      "torch.Size([16, 64, 124, 60])\n",
      "torch.Size([16, 32, 253, 125])\n"
     ]
    }
   ],
   "source": [
    "import torch\n",
    "import torch.nn as nn\n",
    "import torch.nn.functional as F\n",
    "\n",
    "a = torch.rand(16,32,256,128)\n",
    "\n",
    "conv = nn.Conv2d(32,64,kernel_size=(9,9),stride=(2,2))\n",
    "conv_transpose = nn.ConvTranspose2d(64,32,kernel_size=(7,7),stride=(2,2))\n",
    "\n",
    "print(a.size())\n",
    "b = conv(a)\n",
    "print(b.size())\n",
    "c = conv_transpose(b)\n",
    "print(c.size())"
   ]
  },
  {
   "cell_type": "code",
   "execution_count": 24,
   "metadata": {},
   "outputs": [
    {
     "name": "stdout",
     "output_type": "stream",
     "text": [
      "torch.Size([16, 3, 300, 300])\n"
     ]
    }
   ],
   "source": [
    "a = torch.rand(16,3,256,256)\n",
    "print(F.upsample(a,(300,300), mode = \"bilinear\").size())"
   ]
  }
 ],
 "metadata": {
  "kernelspec": {
   "display_name": "Python 3",
   "language": "python",
   "name": "python3"
  },
  "language_info": {
   "codemirror_mode": {
    "name": "ipython",
    "version": 3
   },
   "file_extension": ".py",
   "mimetype": "text/x-python",
   "name": "python",
   "nbconvert_exporter": "python",
   "pygments_lexer": "ipython3",
   "version": "3.9.7"
  },
  "orig_nbformat": 4
 },
 "nbformat": 4,
 "nbformat_minor": 2
}
