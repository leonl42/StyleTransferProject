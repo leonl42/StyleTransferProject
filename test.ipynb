{
 "cells": [
  {
   "cell_type": "code",
   "execution_count": 6,
   "metadata": {},
   "outputs": [
    {
     "name": "stdout",
     "output_type": "stream",
     "text": [
      "memory:  0.536870912\n"
     ]
    }
   ],
   "source": [
    "import torch\n",
    "\n",
    "a = torch.rand(1,512,512,512)\n",
    "print(\"memory: \", a.element_size() * a.nelement()/1000000000)"
   ]
  },
  {
   "cell_type": "code",
   "execution_count": 18,
   "metadata": {},
   "outputs": [
    {
     "name": "stdout",
     "output_type": "stream",
     "text": [
      "torch.Size([16, 32, 256, 128])\n",
      "torch.Size([16, 64, 124, 60])\n",
      "torch.Size([16, 32, 253, 125])\n"
     ]
    }
   ],
   "source": [
    "import torch\n",
    "import torch.nn as nn\n",
    "import torch.nn.functional as F\n",
    "\n",
    "a = torch.rand(16,32,256,128)\n",
    "\n",
    "conv = nn.Conv2d(32,64,kernel_size=(9,9),stride=(2,2))\n",
    "conv_transpose = nn.ConvTranspose2d(64,32,kernel_size=(7,7),stride=(2,2))\n",
    "\n",
    "print(a.size())\n",
    "b = conv(a)\n",
    "print(b.size())\n",
    "c = conv_transpose(b)\n",
    "print(c.size())"
   ]
  },
  {
   "cell_type": "code",
   "execution_count": 24,
   "metadata": {},
   "outputs": [
    {
     "name": "stdout",
     "output_type": "stream",
     "text": [
      "torch.Size([16, 3, 300, 300])\n"
     ]
    }
   ],
   "source": [
    "a = torch.rand(16,3,256,256)\n",
    "print(F.upsample(a,(300,300), mode = \"bilinear\").size())"
   ]
  }
 ],
 "metadata": {
  "kernelspec": {
   "display_name": "Python 3",
   "language": "python",
   "name": "python3"
  },
  "language_info": {
   "codemirror_mode": {
    "name": "ipython",
    "version": 3
   },
   "file_extension": ".py",
   "mimetype": "text/x-python",
   "name": "python",
   "nbconvert_exporter": "python",
   "pygments_lexer": "ipython3",
   "version": "3.9.7"
  },
  "orig_nbformat": 4
 },
 "nbformat": 4,
 "nbformat_minor": 2
}
