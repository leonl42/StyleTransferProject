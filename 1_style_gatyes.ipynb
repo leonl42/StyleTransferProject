{
 "cells": [
  {
   "attachments": {},
   "cell_type": "markdown",
   "metadata": {},
   "source": [
    "# 1. Simple style transfer\n",
    "\n",
    "In this section we will directly apply the style transfer to the image by treating the image pixels as weights and optimizing them. First we will load our content and our style image:"
   ]
  },
  {
   "cell_type": "code",
   "execution_count": 1,
   "metadata": {},
   "outputs": [],
   "source": [
    "import torch\n",
    "import torch.nn as nn\n",
    "import torch.nn.functional as F\n",
    "from torchvision.transforms import ToTensor,ToPILImage,Normalize\n",
    "from utils.model import construct_style_loss_model,construct_decoder_from_encoder\n",
    "from utils.losses import content_gatyes,style_gatyes,style_mmd_polynomial,adaIN,style_mmd_gaussian\n",
    "from utils.utility import normalize\n",
    "import cv2\n",
    "from copy import deepcopy\n",
    "from torchvision.models import vgg19,VGG19_Weights\n",
    "from PIL import Image\n",
    "import torch.optim as optim\n",
    "from tqdm import tqdm\n",
    "%load_ext autoreload\n",
    "%autoreload 2"
   ]
  },
  {
   "cell_type": "code",
   "execution_count": 2,
   "metadata": {},
   "outputs": [
    {
     "name": "stdout",
     "output_type": "stream",
     "text": [
      "On device:  cuda\n"
     ]
    }
   ],
   "source": [
    "device = torch.device(\"cuda\" if torch.cuda.is_available() else \"cpu\")\n",
    "print(\"On device: \", device)"
   ]
  },
  {
   "cell_type": "code",
   "execution_count": 3,
   "metadata": {},
   "outputs": [],
   "source": [
    "CONTENT_IMAGE_PATH = \"./content_frames/864.jpg\"\n",
    "STYLE_IMAGE_PATH = \"./style_frames/1051.jpg\"\n",
    "IMAGE_SIZE = (512,512)"
   ]
  },
  {
   "cell_type": "code",
   "execution_count": 12,
   "metadata": {},
   "outputs": [],
   "source": [
    "# Since PIL has the format [W x H x C], and ToTensor() transforms it into [C x H x W], we have to permute the tensor to shape [C x W x H]\n",
    "content_image = ToTensor()(Image.open(CONTENT_IMAGE_PATH).convert('RGB').resize(IMAGE_SIZE)).permute(0,2,1)\n",
    "style_image = ToTensor()(Image.open(STYLE_IMAGE_PATH).convert('RGB').resize(IMAGE_SIZE)).permute(0,2,1)"
   ]
  },
  {
   "cell_type": "code",
   "execution_count": 151,
   "metadata": {},
   "outputs": [
    {
     "name": "stderr",
     "output_type": "stream",
     "text": [
      "C:\\Users\\Leon\\AppData\\Roaming\\Python\\Python39\\site-packages\\torchvision\\models\\_utils.py:135: UserWarning: Using 'weights' as positional parameter(s) is deprecated since 0.13 and may be removed in the future. Please use keyword parameter(s) instead.\n",
      "  warnings.warn(\n"
     ]
    },
    {
     "data": {
      "text/plain": [
       "Sequential(\n",
       "  (0): Normalize(mean=(0.485, 0.456, 0.406), std=(0.229, 0.224, 0.225))\n",
       "  (1): Conv2d(3, 64, kernel_size=(3, 3), stride=(1, 1), padding=(1, 1))\n",
       "  (2): ReLU(inplace=True)\n",
       "  (3): Conv2d(64, 64, kernel_size=(3, 3), stride=(1, 1), padding=(1, 1))\n",
       "  (4): ReLU(inplace=True)\n",
       "  (5): MaxPool2d(kernel_size=2, stride=2, padding=0, dilation=1, ceil_mode=False)\n",
       "  (6): Conv2d(64, 128, kernel_size=(3, 3), stride=(1, 1), padding=(1, 1))\n",
       "  (7): ReLU(inplace=True)\n",
       "  (8): Conv2d(128, 128, kernel_size=(3, 3), stride=(1, 1), padding=(1, 1))\n",
       "  (9): ReLU(inplace=True)\n",
       "  (10): MaxPool2d(kernel_size=2, stride=2, padding=0, dilation=1, ceil_mode=False)\n",
       "  (11): Conv2d(128, 256, kernel_size=(3, 3), stride=(1, 1), padding=(1, 1))\n",
       "  (12): ReLU(inplace=True)\n",
       "  (13): Conv2d(256, 256, kernel_size=(3, 3), stride=(1, 1), padding=(1, 1))\n",
       "  (14): ReLU(inplace=True)\n",
       "  (15): Conv2d(256, 256, kernel_size=(3, 3), stride=(1, 1), padding=(1, 1))\n",
       "  (16): ReLU(inplace=True)\n",
       "  (17): Conv2d(256, 256, kernel_size=(3, 3), stride=(1, 1), padding=(1, 1))\n",
       "  (18): ReLU(inplace=True)\n",
       "  (19): MaxPool2d(kernel_size=2, stride=2, padding=0, dilation=1, ceil_mode=False)\n",
       "  (20): Conv2d(256, 512, kernel_size=(3, 3), stride=(1, 1), padding=(1, 1))\n",
       "  (21): ReLU(inplace=True)\n",
       "  (22): Conv2d(512, 512, kernel_size=(3, 3), stride=(1, 1), padding=(1, 1))\n",
       "  (23): ReLU(inplace=True)\n",
       "  (24): Conv2d(512, 512, kernel_size=(3, 3), stride=(1, 1), padding=(1, 1))\n",
       "  (25): ReLU(inplace=True)\n",
       "  (26): Conv2d(512, 512, kernel_size=(3, 3), stride=(1, 1), padding=(1, 1))\n",
       "  (27): ReLU(inplace=True)\n",
       "  (28): MaxPool2d(kernel_size=2, stride=2, padding=0, dilation=1, ceil_mode=False)\n",
       "  (29): Conv2d(512, 512, kernel_size=(3, 3), stride=(1, 1), padding=(1, 1))\n",
       "  (30): ReLU(inplace=True)\n",
       "  (31): Conv2d(512, 512, kernel_size=(3, 3), stride=(1, 1), padding=(1, 1))\n",
       "  (32): ReLU(inplace=True)\n",
       "  (33): Conv2d(512, 512, kernel_size=(3, 3), stride=(1, 1), padding=(1, 1))\n",
       "  (34): ReLU(inplace=True)\n",
       "  (35): Conv2d(512, 512, kernel_size=(3, 3), stride=(1, 1), padding=(1, 1))\n",
       "  (36): ReLU(inplace=True)\n",
       "  (37): MaxPool2d(kernel_size=2, stride=2, padding=0, dilation=1, ceil_mode=False)\n",
       ")"
      ]
     },
     "execution_count": 151,
     "metadata": {},
     "output_type": "execute_result"
    }
   ],
   "source": [
    "# Next we load the model. We will use the standard vgg19 model by pytorch. \n",
    "# We will use the model without the classification head and add a normalization layer to match the distribution of the models training data:\n",
    "# load model\n",
    "vgg = vgg19(VGG19_Weights.DEFAULT)\n",
    "\n",
    "# remove classification head\n",
    "vgg = vgg.features\n",
    "\n",
    "# prepend a normalization layer\n",
    "vgg = nn.Sequential(Normalize(mean = (0.485, 0.456, 0.406),std=(0.229, 0.224, 0.225)), *vgg)\n",
    "\n",
    "# lets print the model\n",
    "vgg"
   ]
  },
  {
   "cell_type": "code",
   "execution_count": 152,
   "metadata": {},
   "outputs": [],
   "source": [
    "# next we define which layers we will use as content and weight layers. Note that the indeces match the indices of the printed vgg model. \n",
    "# So index (6) means using the layer \"Conv2d(64, 128, kernel_size=(3, 3), stride=(1, 1), padding=(1, 1))\".\n",
    "# Note that in theory not only conv layers can be used. Some papers also use the ReLU layers between conv.\n",
    "CONTENT_LAYERS = [3,6]\n",
    "STYLE_LAYERS = [6,8,11]\n",
    "\n",
    "# Each layers gets a weighting. Default is just 1.0 for every layer. Note that these lists have to have the same length as the lists for choosing the layers.\n",
    "CONTENT_LAYERS_WEIGHTS = [1.0,1.0]\n",
    "STYLE_LAYERS_WEIGHTS = [1.0,1.0,1.0]\n",
    "\n",
    "if not len(CONTENT_LAYERS) == len(CONTENT_LAYERS_WEIGHTS):\n",
    "    raise AssertionError(\"CONTENT_LAYERS and CONTENT_LAYERS_WEIGHTS have to have the same length but were {0} and {1} respectively\".format(len(CONTENT_LAYERS),len(CONTENT_LAYERS_WEIGHTS)))\n",
    "if not len(STYLE_LAYERS) == len(STYLE_LAYERS_WEIGHTS):\n",
    "    raise AssertionError(\"STYLE_LAYERS and STYLE_LAYERS_WEIGHTS have to have the same length but were {0} and {1} respectively\".format(len(STYLE_LAYERS),len(STYLE_LAYERS_WEIGHTS)))"
   ]
  },
  {
   "cell_type": "code",
   "execution_count": 153,
   "metadata": {},
   "outputs": [
    {
     "name": "stdout",
     "output_type": "stream",
     "text": [
      "range(0, 28)\n"
     ]
    },
    {
     "data": {
      "text/plain": [
       "Sequential(\n",
       "  (Model layer: 0 | Content layer: False | Style layer: False): Parallel(\n",
       "    (layer): Normalize(mean=(0.485, 0.456, 0.406), std=(0.229, 0.224, 0.225))\n",
       "  )\n",
       "  (Model layer: 1 | Content layer: False | Style layer: False): Parallel(\n",
       "    (layer): Conv2d(3, 64, kernel_size=(3, 3), stride=(1, 1), padding=(1, 1))\n",
       "  )\n",
       "  (Model layer: 2 | Content layer: False | Style layer: False): Parallel(\n",
       "    (layer): ReLU(inplace=True)\n",
       "  )\n",
       "  (Model layer: 3 | Content layer: True | Style layer: False): Parallel(\n",
       "    (layer): Conv2d(64, 64, kernel_size=(3, 3), stride=(1, 1), padding=(1, 1))\n",
       "  )\n",
       "  (Model layer: 4 | Content layer: False | Style layer: False): Parallel(\n",
       "    (layer): ReLU(inplace=True)\n",
       "  )\n",
       "  (Model layer: 5 | Content layer: False | Style layer: False): Parallel(\n",
       "    (layer): MaxPool2d(kernel_size=2, stride=2, padding=0, dilation=1, ceil_mode=False)\n",
       "  )\n",
       "  (Model layer: 6 | Content layer: True | Style layer: True): Parallel(\n",
       "    (layer): Conv2d(64, 128, kernel_size=(3, 3), stride=(1, 1), padding=(1, 1))\n",
       "  )\n",
       "  (Model layer: 7 | Content layer: False | Style layer: False): Parallel(\n",
       "    (layer): ReLU(inplace=True)\n",
       "  )\n",
       "  (Model layer: 8 | Content layer: False | Style layer: True): Parallel(\n",
       "    (layer): Conv2d(128, 128, kernel_size=(3, 3), stride=(1, 1), padding=(1, 1))\n",
       "  )\n",
       "  (Model layer: 9 | Content layer: False | Style layer: False): Parallel(\n",
       "    (layer): ReLU(inplace=True)\n",
       "  )\n",
       "  (Model layer: 10 | Content layer: False | Style layer: False): Parallel(\n",
       "    (layer): MaxPool2d(kernel_size=2, stride=2, padding=0, dilation=1, ceil_mode=False)\n",
       "  )\n",
       "  (Model layer: 11 | Content layer: False | Style layer: True): Parallel(\n",
       "    (layer): Conv2d(128, 256, kernel_size=(3, 3), stride=(1, 1), padding=(1, 1))\n",
       "  )\n",
       "  (Model layer: 12 | Content layer: False | Style layer: False): Parallel(\n",
       "    (layer): ReLU(inplace=True)\n",
       "  )\n",
       "  (Model layer: 13 | Content layer: False | Style layer: True): Parallel(\n",
       "    (layer): Conv2d(256, 256, kernel_size=(3, 3), stride=(1, 1), padding=(1, 1))\n",
       "  )\n",
       "  (Model layer: 14 | Content layer: False | Style layer: False): Parallel(\n",
       "    (layer): ReLU(inplace=True)\n",
       "  )\n",
       "  (Model layer: 15 | Content layer: False | Style layer: True): Parallel(\n",
       "    (layer): Conv2d(256, 256, kernel_size=(3, 3), stride=(1, 1), padding=(1, 1))\n",
       "  )\n",
       "  (Model layer: 16 | Content layer: False | Style layer: False): Parallel(\n",
       "    (layer): ReLU(inplace=True)\n",
       "  )\n",
       "  (Model layer: 17 | Content layer: False | Style layer: True): Parallel(\n",
       "    (layer): Conv2d(256, 256, kernel_size=(3, 3), stride=(1, 1), padding=(1, 1))\n",
       "  )\n",
       "  (Model layer: 18 | Content layer: False | Style layer: False): Parallel(\n",
       "    (layer): ReLU(inplace=True)\n",
       "  )\n",
       "  (Model layer: 19 | Content layer: False | Style layer: False): Parallel(\n",
       "    (layer): MaxPool2d(kernel_size=2, stride=2, padding=0, dilation=1, ceil_mode=False)\n",
       "  )\n",
       "  (Model layer: 20 | Content layer: False | Style layer: False): Parallel(\n",
       "    (layer): Conv2d(256, 512, kernel_size=(3, 3), stride=(1, 1), padding=(1, 1))\n",
       "  )\n",
       "  (Model layer: 21 | Content layer: False | Style layer: True): Parallel(\n",
       "    (layer): ReLU(inplace=True)\n",
       "  )\n",
       "  (Model layer: 22 | Content layer: False | Style layer: False): Parallel(\n",
       "    (layer): Conv2d(512, 512, kernel_size=(3, 3), stride=(1, 1), padding=(1, 1))\n",
       "  )\n",
       "  (Model layer: 23 | Content layer: False | Style layer: True): Parallel(\n",
       "    (layer): ReLU(inplace=True)\n",
       "  )\n",
       "  (Model layer: 24 | Content layer: False | Style layer: False): Parallel(\n",
       "    (layer): Conv2d(512, 512, kernel_size=(3, 3), stride=(1, 1), padding=(1, 1))\n",
       "  )\n",
       "  (Model layer: 25 | Content layer: False | Style layer: True): Parallel(\n",
       "    (layer): ReLU(inplace=True)\n",
       "  )\n",
       "  (Model layer: 26 | Content layer: False | Style layer: False): Parallel(\n",
       "    (layer): Conv2d(512, 512, kernel_size=(3, 3), stride=(1, 1), padding=(1, 1))\n",
       "  )\n",
       "  (Model layer: 27 | Content layer: False | Style layer: True): Parallel(\n",
       "    (layer): ReLU(inplace=True)\n",
       "  )\n",
       ")"
      ]
     },
     "execution_count": 153,
     "metadata": {},
     "output_type": "execute_result"
    }
   ],
   "source": [
    "# Based on these information we construct our style loss model. As input it will take a tuple containing an image and two empty lists.\n",
    "# It will return a tuple containing the output and two lists containing the features from the chosen content and style layers respectively.\n",
    "style_loss_model = construct_style_loss_model(vgg,CONTENT_LAYERS,STYLE_LAYERS)\n",
    "style_loss_model"
   ]
  },
  {
   "cell_type": "code",
   "execution_count": 154,
   "metadata": {},
   "outputs": [],
   "source": [
    "# set the model to eval just in case it contains e.g. Dropout layers\n",
    "style_loss_model = style_loss_model.eval()\n",
    "style_loss_model.requires_grad_(False)\n",
    "\n",
    "# lets bring everything to the correct device\n",
    "style_loss_model = style_loss_model.to(device)\n",
    "content_image = content_image.to(device)\n",
    "style_image = style_image.to(device)"
   ]
  },
  {
   "cell_type": "code",
   "execution_count": 155,
   "metadata": {},
   "outputs": [],
   "source": [
    "# The algorithm returns better results if we set the initial image to the content image\n",
    "# We could also use random noise: torch.rand_like(content_image)\n",
    "img = nn.Parameter(content_image.clone().to(device))\n",
    "optimizer = optim.LBFGS([img],lr=0.5)"
   ]
  },
  {
   "cell_type": "code",
   "execution_count": 156,
   "metadata": {},
   "outputs": [],
   "source": [
    "# we precompute the content and style features of the content and style images respectively\n",
    "with torch.no_grad():\n",
    "    _,content_features_target,_ = style_loss_model((content_image.unsqueeze(0),[],[]))\n",
    "    _,_,style_features_target = style_loss_model((style_image.unsqueeze(0),[],[]))"
   ]
  },
  {
   "cell_type": "code",
   "execution_count": 157,
   "metadata": {},
   "outputs": [],
   "source": [
    "STYLE_WEIGHT = 10000000.0\n",
    "LOSS_CONTENT = content_gatyes\n",
    "# Possible values for loss style are style_gatyes,style_mmd_polynomial,style_mmd_gaussian,adaIN\n",
    "# Style_mmd_gaussian does not work well \n",
    "# You might have to lover STYLE_WEIGHT when choosing adaIN\n",
    "LOSS_STYLE = style_gatyes"
   ]
  },
  {
   "cell_type": "code",
   "execution_count": 158,
   "metadata": {},
   "outputs": [],
   "source": [
    "# LBFGS works a bit different then other pytorch optimizers. It requires a loss function in which the magic happens. Dont worry about it.\n",
    "def compute_losses(): \n",
    "\n",
    "    # Clip all values of the image to the range [0,1]\n",
    "    with torch.no_grad():\n",
    "        img.clamp_(0, 1)\n",
    "\n",
    "    # initialize (reset) optimizer\n",
    "    optimizer.zero_grad()\n",
    "\n",
    "    # get the features from the chosen content and style layers for our image\n",
    "    _,content_features,style_features= style_loss_model((img.unsqueeze(0),[],[]))\n",
    "\n",
    "    # calculate loss for every layer and sum it up\n",
    "    content_loss = 0.0\n",
    "    for f,f_target,weight in zip(content_features,content_features_target, CONTENT_LAYERS_WEIGHTS):\n",
    "        content_loss += weight*LOSS_CONTENT(normalize(f,f_target)).mean()\n",
    "\n",
    "    # calculate loss for every layer and sum it up\n",
    "    style_loss = 0.0\n",
    "    for f,f_target,weight in zip(style_features,style_features_target, STYLE_LAYERS_WEIGHTS):\n",
    "        style_loss += weight*LOSS_STYLE(normalize(f,f_target)).mean()\n",
    "\n",
    "    style_loss *= STYLE_WEIGHT\n",
    "    \n",
    "    loss = content_loss+style_loss\n",
    "    loss.backward()\n",
    "\n",
    "    return (content_loss+style_loss).item()"
   ]
  },
  {
   "cell_type": "code",
   "execution_count": 159,
   "metadata": {},
   "outputs": [],
   "source": [
    "# where to save the current image\n",
    "SAVING_PATH = \"./result.jpg\""
   ]
  },
  {
   "cell_type": "code",
   "execution_count": 160,
   "metadata": {},
   "outputs": [
    {
     "name": "stderr",
     "output_type": "stream",
     "text": [
      "  0%|          | 0/10 [00:00<?, ?it/s]"
     ]
    },
    {
     "name": "stdout",
     "output_type": "stream",
     "text": [
      "content loss:  tensor(0., device='cuda:0', grad_fn=<AddBackward0>)  style loss:  tensor(33.2265, device='cuda:0', grad_fn=<MulBackward0>)\n",
      "content loss:  tensor(2.1302e-08, device='cuda:0', grad_fn=<AddBackward0>)  style loss:  tensor(33.2219, device='cuda:0', grad_fn=<MulBackward0>)\n",
      "content loss:  tensor(1.2586e-05, device='cuda:0', grad_fn=<AddBackward0>)  style loss:  tensor(33.0099, device='cuda:0', grad_fn=<MulBackward0>)\n",
      "content loss:  tensor(0.0885, device='cuda:0', grad_fn=<AddBackward0>)  style loss:  tensor(25.0858, device='cuda:0', grad_fn=<MulBackward0>)\n",
      "content loss:  tensor(0.1399, device='cuda:0', grad_fn=<AddBackward0>)  style loss:  tensor(20.1362, device='cuda:0', grad_fn=<MulBackward0>)\n",
      "content loss:  tensor(0.2217, device='cuda:0', grad_fn=<AddBackward0>)  style loss:  tensor(15.9718, device='cuda:0', grad_fn=<MulBackward0>)\n",
      "content loss:  tensor(0.2950, device='cuda:0', grad_fn=<AddBackward0>)  style loss:  tensor(13.4848, device='cuda:0', grad_fn=<MulBackward0>)\n",
      "content loss:  tensor(0.3666, device='cuda:0', grad_fn=<AddBackward0>)  style loss:  tensor(11.7477, device='cuda:0', grad_fn=<MulBackward0>)\n",
      "content loss:  tensor(0.4488, device='cuda:0', grad_fn=<AddBackward0>)  style loss:  tensor(10.1617, device='cuda:0', grad_fn=<MulBackward0>)\n",
      "content loss:  tensor(0.5414, device='cuda:0', grad_fn=<AddBackward0>)  style loss:  tensor(8.6710, device='cuda:0', grad_fn=<MulBackward0>)\n",
      "content loss:  tensor(0.6287, device='cuda:0', grad_fn=<AddBackward0>)  style loss:  tensor(7.4155, device='cuda:0', grad_fn=<MulBackward0>)\n",
      "content loss:  tensor(0.7079, device='cuda:0', grad_fn=<AddBackward0>)  style loss:  tensor(6.3577, device='cuda:0', grad_fn=<MulBackward0>)\n",
      "content loss:  tensor(0.7803, device='cuda:0', grad_fn=<AddBackward0>)  style loss:  tensor(5.4551, device='cuda:0', grad_fn=<MulBackward0>)\n",
      "content loss:  tensor(0.8455, device='cuda:0', grad_fn=<AddBackward0>)  style loss:  tensor(4.6804, device='cuda:0', grad_fn=<MulBackward0>)\n",
      "content loss:  tensor(0.9018, device='cuda:0', grad_fn=<AddBackward0>)  style loss:  tensor(4.0222, device='cuda:0', grad_fn=<MulBackward0>)\n",
      "content loss:  tensor(0.9497, device='cuda:0', grad_fn=<AddBackward0>)  style loss:  tensor(3.4597, device='cuda:0', grad_fn=<MulBackward0>)\n",
      "content loss:  tensor(0.9911, device='cuda:0', grad_fn=<AddBackward0>)  style loss:  tensor(2.9736, device='cuda:0', grad_fn=<MulBackward0>)\n",
      "content loss:  tensor(1.0253, device='cuda:0', grad_fn=<AddBackward0>)  style loss:  tensor(2.5642, device='cuda:0', grad_fn=<MulBackward0>)\n",
      "content loss:  tensor(1.0508, device='cuda:0', grad_fn=<AddBackward0>)  style loss:  tensor(2.2291, device='cuda:0', grad_fn=<MulBackward0>)\n",
      "content loss:  tensor(1.0687, device='cuda:0', grad_fn=<AddBackward0>)  style loss:  tensor(1.9488, device='cuda:0', grad_fn=<MulBackward0>)\n"
     ]
    },
    {
     "name": "stderr",
     "output_type": "stream",
     "text": [
      " 10%|█         | 1/10 [00:02<00:18,  2.07s/it]"
     ]
    },
    {
     "name": "stdout",
     "output_type": "stream",
     "text": [
      "content loss:  tensor(1.0796, device='cuda:0', grad_fn=<AddBackward0>)  style loss:  tensor(1.7218, device='cuda:0', grad_fn=<MulBackward0>)\n",
      "content loss:  tensor(1.0841, device='cuda:0', grad_fn=<AddBackward0>)  style loss:  tensor(1.5385, device='cuda:0', grad_fn=<MulBackward0>)\n",
      "content loss:  tensor(1.0843, device='cuda:0', grad_fn=<AddBackward0>)  style loss:  tensor(1.3958, device='cuda:0', grad_fn=<MulBackward0>)\n",
      "content loss:  tensor(1.0814, device='cuda:0', grad_fn=<AddBackward0>)  style loss:  tensor(1.2831, device='cuda:0', grad_fn=<MulBackward0>)\n",
      "content loss:  tensor(1.0786, device='cuda:0', grad_fn=<AddBackward0>)  style loss:  tensor(1.1952, device='cuda:0', grad_fn=<MulBackward0>)\n",
      "content loss:  tensor(1.0753, device='cuda:0', grad_fn=<AddBackward0>)  style loss:  tensor(1.1171, device='cuda:0', grad_fn=<MulBackward0>)\n",
      "content loss:  tensor(1.0761, device='cuda:0', grad_fn=<AddBackward0>)  style loss:  tensor(1.0457, device='cuda:0', grad_fn=<MulBackward0>)\n",
      "content loss:  tensor(1.0737, device='cuda:0', grad_fn=<AddBackward0>)  style loss:  tensor(0.9860, device='cuda:0', grad_fn=<MulBackward0>)\n",
      "content loss:  tensor(1.0769, device='cuda:0', grad_fn=<AddBackward0>)  style loss:  tensor(0.9507, device='cuda:0', grad_fn=<MulBackward0>)\n",
      "content loss:  tensor(1.0819, device='cuda:0', grad_fn=<AddBackward0>)  style loss:  tensor(0.8953, device='cuda:0', grad_fn=<MulBackward0>)\n",
      "content loss:  tensor(1.0861, device='cuda:0', grad_fn=<AddBackward0>)  style loss:  tensor(0.8445, device='cuda:0', grad_fn=<MulBackward0>)\n",
      "content loss:  tensor(1.0892, device='cuda:0', grad_fn=<AddBackward0>)  style loss:  tensor(0.7958, device='cuda:0', grad_fn=<MulBackward0>)\n",
      "content loss:  tensor(1.0893, device='cuda:0', grad_fn=<AddBackward0>)  style loss:  tensor(0.7635, device='cuda:0', grad_fn=<MulBackward0>)\n",
      "content loss:  tensor(1.0858, device='cuda:0', grad_fn=<AddBackward0>)  style loss:  tensor(0.7317, device='cuda:0', grad_fn=<MulBackward0>)\n",
      "content loss:  tensor(1.0831, device='cuda:0', grad_fn=<AddBackward0>)  style loss:  tensor(0.7085, device='cuda:0', grad_fn=<MulBackward0>)\n",
      "content loss:  tensor(1.0777, device='cuda:0', grad_fn=<AddBackward0>)  style loss:  tensor(0.6850, device='cuda:0', grad_fn=<MulBackward0>)\n",
      "content loss:  tensor(1.0716, device='cuda:0', grad_fn=<AddBackward0>)  style loss:  tensor(0.6625, device='cuda:0', grad_fn=<MulBackward0>)\n",
      "content loss:  tensor(1.0654, device='cuda:0', grad_fn=<AddBackward0>)  style loss:  tensor(0.6436, device='cuda:0', grad_fn=<MulBackward0>)\n",
      "content loss:  tensor(1.0626, device='cuda:0', grad_fn=<AddBackward0>)  style loss:  tensor(0.6287, device='cuda:0', grad_fn=<MulBackward0>)\n",
      "content loss:  tensor(1.0583, device='cuda:0', grad_fn=<AddBackward0>)  style loss:  tensor(0.6119, device='cuda:0', grad_fn=<MulBackward0>)\n"
     ]
    },
    {
     "name": "stderr",
     "output_type": "stream",
     "text": [
      " 20%|██        | 2/10 [00:03<00:14,  1.87s/it]"
     ]
    },
    {
     "name": "stdout",
     "output_type": "stream",
     "text": [
      "content loss:  tensor(1.0564, device='cuda:0', grad_fn=<AddBackward0>)  style loss:  tensor(0.5972, device='cuda:0', grad_fn=<MulBackward0>)\n",
      "content loss:  tensor(1.0549, device='cuda:0', grad_fn=<AddBackward0>)  style loss:  tensor(0.5810, device='cuda:0', grad_fn=<MulBackward0>)\n",
      "content loss:  tensor(1.0528, device='cuda:0', grad_fn=<AddBackward0>)  style loss:  tensor(0.5673, device='cuda:0', grad_fn=<MulBackward0>)\n",
      "content loss:  tensor(1.0502, device='cuda:0', grad_fn=<AddBackward0>)  style loss:  tensor(0.5505, device='cuda:0', grad_fn=<MulBackward0>)\n",
      "content loss:  tensor(1.0475, device='cuda:0', grad_fn=<AddBackward0>)  style loss:  tensor(0.5384, device='cuda:0', grad_fn=<MulBackward0>)\n",
      "content loss:  tensor(1.0442, device='cuda:0', grad_fn=<AddBackward0>)  style loss:  tensor(0.5258, device='cuda:0', grad_fn=<MulBackward0>)\n",
      "content loss:  tensor(1.0416, device='cuda:0', grad_fn=<AddBackward0>)  style loss:  tensor(0.5162, device='cuda:0', grad_fn=<MulBackward0>)\n",
      "content loss:  tensor(1.0374, device='cuda:0', grad_fn=<AddBackward0>)  style loss:  tensor(0.5049, device='cuda:0', grad_fn=<MulBackward0>)\n",
      "content loss:  tensor(1.0342, device='cuda:0', grad_fn=<AddBackward0>)  style loss:  tensor(0.4961, device='cuda:0', grad_fn=<MulBackward0>)\n",
      "content loss:  tensor(1.0301, device='cuda:0', grad_fn=<AddBackward0>)  style loss:  tensor(0.4862, device='cuda:0', grad_fn=<MulBackward0>)\n",
      "content loss:  tensor(1.0254, device='cuda:0', grad_fn=<AddBackward0>)  style loss:  tensor(0.4772, device='cuda:0', grad_fn=<MulBackward0>)\n",
      "content loss:  tensor(1.0224, device='cuda:0', grad_fn=<AddBackward0>)  style loss:  tensor(0.4699, device='cuda:0', grad_fn=<MulBackward0>)\n",
      "content loss:  tensor(1.0193, device='cuda:0', grad_fn=<AddBackward0>)  style loss:  tensor(0.4627, device='cuda:0', grad_fn=<MulBackward0>)\n",
      "content loss:  tensor(1.0157, device='cuda:0', grad_fn=<AddBackward0>)  style loss:  tensor(0.4578, device='cuda:0', grad_fn=<MulBackward0>)\n",
      "content loss:  tensor(1.0135, device='cuda:0', grad_fn=<AddBackward0>)  style loss:  tensor(0.4510, device='cuda:0', grad_fn=<MulBackward0>)\n",
      "content loss:  tensor(1.0126, device='cuda:0', grad_fn=<AddBackward0>)  style loss:  tensor(0.4460, device='cuda:0', grad_fn=<MulBackward0>)\n",
      "content loss:  tensor(1.0105, device='cuda:0', grad_fn=<AddBackward0>)  style loss:  tensor(0.4407, device='cuda:0', grad_fn=<MulBackward0>)\n",
      "content loss:  tensor(1.0066, device='cuda:0', grad_fn=<AddBackward0>)  style loss:  tensor(0.4335, device='cuda:0', grad_fn=<MulBackward0>)\n",
      "content loss:  tensor(1.0041, device='cuda:0', grad_fn=<AddBackward0>)  style loss:  tensor(0.4265, device='cuda:0', grad_fn=<MulBackward0>)\n"
     ]
    },
    {
     "name": "stderr",
     "output_type": "stream",
     "text": [
      " 30%|███       | 3/10 [00:05<00:12,  1.83s/it]"
     ]
    },
    {
     "name": "stdout",
     "output_type": "stream",
     "text": [
      "content loss:  tensor(1.0012, device='cuda:0', grad_fn=<AddBackward0>)  style loss:  tensor(0.4211, device='cuda:0', grad_fn=<MulBackward0>)\n",
      "content loss:  tensor(0.9987, device='cuda:0', grad_fn=<AddBackward0>)  style loss:  tensor(0.4162, device='cuda:0', grad_fn=<MulBackward0>)\n",
      "content loss:  tensor(0.9966, device='cuda:0', grad_fn=<AddBackward0>)  style loss:  tensor(0.4135, device='cuda:0', grad_fn=<MulBackward0>)\n",
      "content loss:  tensor(0.9947, device='cuda:0', grad_fn=<AddBackward0>)  style loss:  tensor(0.4097, device='cuda:0', grad_fn=<MulBackward0>)\n",
      "content loss:  tensor(0.9925, device='cuda:0', grad_fn=<AddBackward0>)  style loss:  tensor(0.4060, device='cuda:0', grad_fn=<MulBackward0>)\n",
      "content loss:  tensor(0.9900, device='cuda:0', grad_fn=<AddBackward0>)  style loss:  tensor(0.4017, device='cuda:0', grad_fn=<MulBackward0>)\n",
      "content loss:  tensor(0.9869, device='cuda:0', grad_fn=<AddBackward0>)  style loss:  tensor(0.3971, device='cuda:0', grad_fn=<MulBackward0>)\n",
      "content loss:  tensor(0.9842, device='cuda:0', grad_fn=<AddBackward0>)  style loss:  tensor(0.3926, device='cuda:0', grad_fn=<MulBackward0>)\n",
      "content loss:  tensor(0.9825, device='cuda:0', grad_fn=<AddBackward0>)  style loss:  tensor(0.3892, device='cuda:0', grad_fn=<MulBackward0>)\n",
      "content loss:  tensor(0.9806, device='cuda:0', grad_fn=<AddBackward0>)  style loss:  tensor(0.3851, device='cuda:0', grad_fn=<MulBackward0>)\n",
      "content loss:  tensor(0.9785, device='cuda:0', grad_fn=<AddBackward0>)  style loss:  tensor(0.3809, device='cuda:0', grad_fn=<MulBackward0>)\n",
      "content loss:  tensor(0.9770, device='cuda:0', grad_fn=<AddBackward0>)  style loss:  tensor(0.3797, device='cuda:0', grad_fn=<MulBackward0>)\n",
      "content loss:  tensor(0.9765, device='cuda:0', grad_fn=<AddBackward0>)  style loss:  tensor(0.3766, device='cuda:0', grad_fn=<MulBackward0>)\n",
      "content loss:  tensor(0.9756, device='cuda:0', grad_fn=<AddBackward0>)  style loss:  tensor(0.3732, device='cuda:0', grad_fn=<MulBackward0>)\n",
      "content loss:  tensor(0.9739, device='cuda:0', grad_fn=<AddBackward0>)  style loss:  tensor(0.3706, device='cuda:0', grad_fn=<MulBackward0>)\n",
      "content loss:  tensor(0.9716, device='cuda:0', grad_fn=<AddBackward0>)  style loss:  tensor(0.3674, device='cuda:0', grad_fn=<MulBackward0>)\n",
      "content loss:  tensor(0.9691, device='cuda:0', grad_fn=<AddBackward0>)  style loss:  tensor(0.3645, device='cuda:0', grad_fn=<MulBackward0>)\n",
      "content loss:  tensor(0.9673, device='cuda:0', grad_fn=<AddBackward0>)  style loss:  tensor(0.3621, device='cuda:0', grad_fn=<MulBackward0>)\n",
      "content loss:  tensor(0.9656, device='cuda:0', grad_fn=<AddBackward0>)  style loss:  tensor(0.3597, device='cuda:0', grad_fn=<MulBackward0>)\n",
      "content loss:  tensor(0.9638, device='cuda:0', grad_fn=<AddBackward0>)  style loss:  tensor(0.3583, device='cuda:0', grad_fn=<MulBackward0>)\n"
     ]
    },
    {
     "name": "stderr",
     "output_type": "stream",
     "text": [
      " 40%|████      | 4/10 [00:07<00:11,  1.84s/it]"
     ]
    },
    {
     "name": "stdout",
     "output_type": "stream",
     "text": [
      "content loss:  tensor(0.9628, device='cuda:0', grad_fn=<AddBackward0>)  style loss:  tensor(0.3558, device='cuda:0', grad_fn=<MulBackward0>)\n",
      "content loss:  tensor(0.9618, device='cuda:0', grad_fn=<AddBackward0>)  style loss:  tensor(0.3536, device='cuda:0', grad_fn=<MulBackward0>)\n",
      "content loss:  tensor(0.9604, device='cuda:0', grad_fn=<AddBackward0>)  style loss:  tensor(0.3513, device='cuda:0', grad_fn=<MulBackward0>)\n",
      "content loss:  tensor(0.9586, device='cuda:0', grad_fn=<AddBackward0>)  style loss:  tensor(0.3483, device='cuda:0', grad_fn=<MulBackward0>)\n",
      "content loss:  tensor(0.9568, device='cuda:0', grad_fn=<AddBackward0>)  style loss:  tensor(0.3456, device='cuda:0', grad_fn=<MulBackward0>)\n",
      "content loss:  tensor(0.9553, device='cuda:0', grad_fn=<AddBackward0>)  style loss:  tensor(0.3428, device='cuda:0', grad_fn=<MulBackward0>)\n",
      "content loss:  tensor(0.9538, device='cuda:0', grad_fn=<AddBackward0>)  style loss:  tensor(0.3411, device='cuda:0', grad_fn=<MulBackward0>)\n",
      "content loss:  tensor(0.9526, device='cuda:0', grad_fn=<AddBackward0>)  style loss:  tensor(0.3392, device='cuda:0', grad_fn=<MulBackward0>)\n",
      "content loss:  tensor(0.9517, device='cuda:0', grad_fn=<AddBackward0>)  style loss:  tensor(0.3381, device='cuda:0', grad_fn=<MulBackward0>)\n",
      "content loss:  tensor(0.9510, device='cuda:0', grad_fn=<AddBackward0>)  style loss:  tensor(0.3365, device='cuda:0', grad_fn=<MulBackward0>)\n",
      "content loss:  tensor(0.9498, device='cuda:0', grad_fn=<AddBackward0>)  style loss:  tensor(0.3350, device='cuda:0', grad_fn=<MulBackward0>)\n",
      "content loss:  tensor(0.9481, device='cuda:0', grad_fn=<AddBackward0>)  style loss:  tensor(0.3330, device='cuda:0', grad_fn=<MulBackward0>)\n",
      "content loss:  tensor(0.9466, device='cuda:0', grad_fn=<AddBackward0>)  style loss:  tensor(0.3310, device='cuda:0', grad_fn=<MulBackward0>)\n",
      "content loss:  tensor(0.9452, device='cuda:0', grad_fn=<AddBackward0>)  style loss:  tensor(0.3293, device='cuda:0', grad_fn=<MulBackward0>)\n",
      "content loss:  tensor(0.9441, device='cuda:0', grad_fn=<AddBackward0>)  style loss:  tensor(0.3275, device='cuda:0', grad_fn=<MulBackward0>)\n",
      "content loss:  tensor(0.9432, device='cuda:0', grad_fn=<AddBackward0>)  style loss:  tensor(0.3261, device='cuda:0', grad_fn=<MulBackward0>)\n",
      "content loss:  tensor(0.9422, device='cuda:0', grad_fn=<AddBackward0>)  style loss:  tensor(0.3242, device='cuda:0', grad_fn=<MulBackward0>)\n",
      "content loss:  tensor(0.9413, device='cuda:0', grad_fn=<AddBackward0>)  style loss:  tensor(0.3231, device='cuda:0', grad_fn=<MulBackward0>)\n",
      "content loss:  tensor(0.9405, device='cuda:0', grad_fn=<AddBackward0>)  style loss:  tensor(0.3214, device='cuda:0', grad_fn=<MulBackward0>)\n",
      "content loss:  tensor(0.9395, device='cuda:0', grad_fn=<AddBackward0>)  style loss:  tensor(0.3199, device='cuda:0', grad_fn=<MulBackward0>)\n"
     ]
    },
    {
     "name": "stderr",
     "output_type": "stream",
     "text": [
      " 50%|█████     | 5/10 [00:09<00:09,  1.86s/it]"
     ]
    },
    {
     "name": "stdout",
     "output_type": "stream",
     "text": [
      "content loss:  tensor(0.9382, device='cuda:0', grad_fn=<AddBackward0>)  style loss:  tensor(0.3184, device='cuda:0', grad_fn=<MulBackward0>)\n",
      "content loss:  tensor(0.9370, device='cuda:0', grad_fn=<AddBackward0>)  style loss:  tensor(0.3172, device='cuda:0', grad_fn=<MulBackward0>)\n",
      "content loss:  tensor(0.9360, device='cuda:0', grad_fn=<AddBackward0>)  style loss:  tensor(0.3157, device='cuda:0', grad_fn=<MulBackward0>)\n",
      "content loss:  tensor(0.9347, device='cuda:0', grad_fn=<AddBackward0>)  style loss:  tensor(0.3147, device='cuda:0', grad_fn=<MulBackward0>)\n",
      "content loss:  tensor(0.9338, device='cuda:0', grad_fn=<AddBackward0>)  style loss:  tensor(0.3133, device='cuda:0', grad_fn=<MulBackward0>)\n",
      "content loss:  tensor(0.9326, device='cuda:0', grad_fn=<AddBackward0>)  style loss:  tensor(0.3122, device='cuda:0', grad_fn=<MulBackward0>)\n",
      "content loss:  tensor(0.9319, device='cuda:0', grad_fn=<AddBackward0>)  style loss:  tensor(0.3107, device='cuda:0', grad_fn=<MulBackward0>)\n",
      "content loss:  tensor(0.9309, device='cuda:0', grad_fn=<AddBackward0>)  style loss:  tensor(0.3095, device='cuda:0', grad_fn=<MulBackward0>)\n",
      "content loss:  tensor(0.9300, device='cuda:0', grad_fn=<AddBackward0>)  style loss:  tensor(0.3082, device='cuda:0', grad_fn=<MulBackward0>)\n",
      "content loss:  tensor(0.9292, device='cuda:0', grad_fn=<AddBackward0>)  style loss:  tensor(0.3069, device='cuda:0', grad_fn=<MulBackward0>)\n",
      "content loss:  tensor(0.9283, device='cuda:0', grad_fn=<AddBackward0>)  style loss:  tensor(0.3057, device='cuda:0', grad_fn=<MulBackward0>)\n",
      "content loss:  tensor(0.9276, device='cuda:0', grad_fn=<AddBackward0>)  style loss:  tensor(0.3052, device='cuda:0', grad_fn=<MulBackward0>)\n",
      "content loss:  tensor(0.9271, device='cuda:0', grad_fn=<AddBackward0>)  style loss:  tensor(0.3042, device='cuda:0', grad_fn=<MulBackward0>)\n",
      "content loss:  tensor(0.9262, device='cuda:0', grad_fn=<AddBackward0>)  style loss:  tensor(0.3033, device='cuda:0', grad_fn=<MulBackward0>)\n",
      "content loss:  tensor(0.9253, device='cuda:0', grad_fn=<AddBackward0>)  style loss:  tensor(0.3024, device='cuda:0', grad_fn=<MulBackward0>)\n",
      "content loss:  tensor(0.9243, device='cuda:0', grad_fn=<AddBackward0>)  style loss:  tensor(0.3015, device='cuda:0', grad_fn=<MulBackward0>)\n",
      "content loss:  tensor(0.9234, device='cuda:0', grad_fn=<AddBackward0>)  style loss:  tensor(0.3006, device='cuda:0', grad_fn=<MulBackward0>)\n",
      "content loss:  tensor(0.9225, device='cuda:0', grad_fn=<AddBackward0>)  style loss:  tensor(0.2999, device='cuda:0', grad_fn=<MulBackward0>)\n",
      "content loss:  tensor(0.9218, device='cuda:0', grad_fn=<AddBackward0>)  style loss:  tensor(0.2989, device='cuda:0', grad_fn=<MulBackward0>)\n",
      "content loss:  "
     ]
    },
    {
     "name": "stderr",
     "output_type": "stream",
     "text": [
      " 60%|██████    | 6/10 [00:11<00:07,  1.89s/it]"
     ]
    },
    {
     "name": "stdout",
     "output_type": "stream",
     "text": [
      "tensor(0.9211, device='cuda:0', grad_fn=<AddBackward0>)  style loss:  tensor(0.2979, device='cuda:0', grad_fn=<MulBackward0>)\n",
      "content loss:  tensor(0.9203, device='cuda:0', grad_fn=<AddBackward0>)  style loss:  tensor(0.2969, device='cuda:0', grad_fn=<MulBackward0>)\n",
      "content loss:  tensor(0.9198, device='cuda:0', grad_fn=<AddBackward0>)  style loss:  tensor(0.2959, device='cuda:0', grad_fn=<MulBackward0>)\n",
      "content loss:  tensor(0.9191, device='cuda:0', grad_fn=<AddBackward0>)  style loss:  tensor(0.2949, device='cuda:0', grad_fn=<MulBackward0>)\n",
      "content loss:  tensor(0.9185, device='cuda:0', grad_fn=<AddBackward0>)  style loss:  tensor(0.2944, device='cuda:0', grad_fn=<MulBackward0>)\n",
      "content loss:  tensor(0.9179, device='cuda:0', grad_fn=<AddBackward0>)  style loss:  tensor(0.2937, device='cuda:0', grad_fn=<MulBackward0>)\n",
      "content loss:  tensor(0.9174, device='cuda:0', grad_fn=<AddBackward0>)  style loss:  tensor(0.2929, device='cuda:0', grad_fn=<MulBackward0>)\n",
      "content loss:  tensor(0.9165, device='cuda:0', grad_fn=<AddBackward0>)  style loss:  tensor(0.2923, device='cuda:0', grad_fn=<MulBackward0>)\n",
      "content loss:  tensor(0.9158, device='cuda:0', grad_fn=<AddBackward0>)  style loss:  tensor(0.2916, device='cuda:0', grad_fn=<MulBackward0>)\n",
      "content loss:  tensor(0.9149, device='cuda:0', grad_fn=<AddBackward0>)  style loss:  tensor(0.2910, device='cuda:0', grad_fn=<MulBackward0>)\n",
      "content loss:  tensor(0.9142, device='cuda:0', grad_fn=<AddBackward0>)  style loss:  tensor(0.2903, device='cuda:0', grad_fn=<MulBackward0>)\n",
      "content loss:  tensor(0.9135, device='cuda:0', grad_fn=<AddBackward0>)  style loss:  tensor(0.2896, device='cuda:0', grad_fn=<MulBackward0>)\n",
      "content loss:  tensor(0.9129, device='cuda:0', grad_fn=<AddBackward0>)  style loss:  tensor(0.2889, device='cuda:0', grad_fn=<MulBackward0>)\n",
      "content loss:  tensor(0.9125, device='cuda:0', grad_fn=<AddBackward0>)  style loss:  tensor(0.2881, device='cuda:0', grad_fn=<MulBackward0>)\n",
      "content loss:  tensor(0.9120, device='cuda:0', grad_fn=<AddBackward0>)  style loss:  tensor(0.2875, device='cuda:0', grad_fn=<MulBackward0>)\n",
      "content loss:  tensor(0.9116, device='cuda:0', grad_fn=<AddBackward0>)  style loss:  tensor(0.2867, device='cuda:0', grad_fn=<MulBackward0>)\n",
      "content loss:  tensor(0.9112, device='cuda:0', grad_fn=<AddBackward0>)  style loss:  tensor(0.2860, device='cuda:0', grad_fn=<MulBackward0>)\n",
      "content loss:  tensor(0.9106, device='cuda:0', grad_fn=<AddBackward0>)  style loss:  tensor(0.2854, device='cuda:0', grad_fn=<MulBackward0>)\n",
      "content loss:  tensor(0.9102, device='cuda:0', grad_fn=<AddBackward0>)  style loss:  tensor(0.2847, device='cuda:0', grad_fn=<MulBackward0>)\n",
      "content loss:  tensor(0.9095, device='cuda:0', grad_fn=<AddBackward0>)  style loss:  tensor(0.2842, device='cuda:0', grad_fn=<MulBackward0>)\n",
      "content loss:  tensor(0.9089, device='cuda:0', grad_fn=<AddBackward0>)  style loss:  tensor(0.2836, device='cuda:0', grad_fn=<MulBackward0>)\n"
     ]
    },
    {
     "name": "stderr",
     "output_type": "stream",
     "text": [
      " 70%|███████   | 7/10 [00:13<00:05,  1.90s/it]"
     ]
    },
    {
     "name": "stdout",
     "output_type": "stream",
     "text": [
      "content loss:  tensor(0.9082, device='cuda:0', grad_fn=<AddBackward0>)  style loss:  tensor(0.2831, device='cuda:0', grad_fn=<MulBackward0>)\n",
      "content loss:  tensor(0.9077, device='cuda:0', grad_fn=<AddBackward0>)  style loss:  tensor(0.2826, device='cuda:0', grad_fn=<MulBackward0>)\n",
      "content loss:  tensor(0.9071, device='cuda:0', grad_fn=<AddBackward0>)  style loss:  tensor(0.2821, device='cuda:0', grad_fn=<MulBackward0>)\n",
      "content loss:  tensor(0.9065, device='cuda:0', grad_fn=<AddBackward0>)  style loss:  tensor(0.2816, device='cuda:0', grad_fn=<MulBackward0>)\n",
      "content loss:  tensor(0.9061, device='cuda:0', grad_fn=<AddBackward0>)  style loss:  tensor(0.2811, device='cuda:0', grad_fn=<MulBackward0>)\n",
      "content loss:  tensor(0.9055, device='cuda:0', grad_fn=<AddBackward0>)  style loss:  tensor(0.2806, device='cuda:0', grad_fn=<MulBackward0>)\n",
      "content loss:  tensor(0.9053, device='cuda:0', grad_fn=<AddBackward0>)  style loss:  tensor(0.2799, device='cuda:0', grad_fn=<MulBackward0>)\n",
      "content loss:  tensor(0.9048, device='cuda:0', grad_fn=<AddBackward0>)  style loss:  tensor(0.2793, device='cuda:0', grad_fn=<MulBackward0>)\n",
      "content loss:  tensor(0.9045, device='cuda:0', grad_fn=<AddBackward0>)  style loss:  tensor(0.2788, device='cuda:0', grad_fn=<MulBackward0>)\n",
      "content loss:  tensor(0.9041, device='cuda:0', grad_fn=<AddBackward0>)  style loss:  tensor(0.2782, device='cuda:0', grad_fn=<MulBackward0>)\n",
      "content loss:  tensor(0.9036, device='cuda:0', grad_fn=<AddBackward0>)  style loss:  tensor(0.2778, device='cuda:0', grad_fn=<MulBackward0>)\n",
      "content loss:  tensor(0.9032, device='cuda:0', grad_fn=<AddBackward0>)  style loss:  tensor(0.2773, device='cuda:0', grad_fn=<MulBackward0>)\n",
      "content loss:  tensor(0.9027, device='cuda:0', grad_fn=<AddBackward0>)  style loss:  tensor(0.2770, device='cuda:0', grad_fn=<MulBackward0>)\n",
      "content loss:  tensor(0.9022, device='cuda:0', grad_fn=<AddBackward0>)  style loss:  tensor(0.2766, device='cuda:0', grad_fn=<MulBackward0>)\n",
      "content loss:  tensor(0.9017, device='cuda:0', grad_fn=<AddBackward0>)  style loss:  tensor(0.2762, device='cuda:0', grad_fn=<MulBackward0>)\n",
      "content loss:  tensor(0.9012, device='cuda:0', grad_fn=<AddBackward0>)  style loss:  tensor(0.2758, device='cuda:0', grad_fn=<MulBackward0>)\n",
      "content loss:  tensor(0.9008, device='cuda:0', grad_fn=<AddBackward0>)  style loss:  tensor(0.2753, device='cuda:0', grad_fn=<MulBackward0>)\n",
      "content loss:  tensor(0.9004, device='cuda:0', grad_fn=<AddBackward0>)  style loss:  tensor(0.2748, device='cuda:0', grad_fn=<MulBackward0>)\n",
      "content loss:  tensor(0.9001, device='cuda:0', grad_fn=<AddBackward0>)  style loss:  tensor(0.2743, device='cuda:0', grad_fn=<MulBackward0>)\n",
      "content loss:  tensor(0.8997, device='cuda:0', grad_fn=<AddBackward0>)  style loss:  tensor(0.2739, device='cuda:0', grad_fn=<MulBackward0>)\n"
     ]
    },
    {
     "name": "stderr",
     "output_type": "stream",
     "text": [
      " 80%|████████  | 8/10 [00:15<00:03,  1.91s/it]"
     ]
    },
    {
     "name": "stdout",
     "output_type": "stream",
     "text": [
      "content loss:  tensor(0.8993, device='cuda:0', grad_fn=<AddBackward0>)  style loss:  tensor(0.2734, device='cuda:0', grad_fn=<MulBackward0>)\n",
      "content loss:  tensor(0.8990, device='cuda:0', grad_fn=<AddBackward0>)  style loss:  tensor(0.2730, device='cuda:0', grad_fn=<MulBackward0>)\n",
      "content loss:  tensor(0.8986, device='cuda:0', grad_fn=<AddBackward0>)  style loss:  tensor(0.2726, device='cuda:0', grad_fn=<MulBackward0>)\n",
      "content loss:  tensor(0.8983, device='cuda:0', grad_fn=<AddBackward0>)  style loss:  tensor(0.2722, device='cuda:0', grad_fn=<MulBackward0>)\n",
      "content loss:  tensor(0.8978, device='cuda:0', grad_fn=<AddBackward0>)  style loss:  tensor(0.2719, device='cuda:0', grad_fn=<MulBackward0>)\n",
      "content loss:  tensor(0.8976, device='cuda:0', grad_fn=<AddBackward0>)  style loss:  tensor(0.2715, device='cuda:0', grad_fn=<MulBackward0>)\n",
      "content loss:  tensor(0.8971, device='cuda:0', grad_fn=<AddBackward0>)  style loss:  tensor(0.2712, device='cuda:0', grad_fn=<MulBackward0>)\n",
      "content loss:  tensor(0.8968, device='cuda:0', grad_fn=<AddBackward0>)  style loss:  tensor(0.2708, device='cuda:0', grad_fn=<MulBackward0>)\n",
      "content loss:  tensor(0.8964, device='cuda:0', grad_fn=<AddBackward0>)  style loss:  tensor(0.2705, device='cuda:0', grad_fn=<MulBackward0>)\n",
      "content loss:  tensor(0.8961, device='cuda:0', grad_fn=<AddBackward0>)  style loss:  tensor(0.2700, device='cuda:0', grad_fn=<MulBackward0>)\n",
      "content loss:  tensor(0.8957, device='cuda:0', grad_fn=<AddBackward0>)  style loss:  tensor(0.2697, device='cuda:0', grad_fn=<MulBackward0>)\n",
      "content loss:  tensor(0.8955, device='cuda:0', grad_fn=<AddBackward0>)  style loss:  tensor(0.2692, device='cuda:0', grad_fn=<MulBackward0>)\n",
      "content loss:  tensor(0.8952, device='cuda:0', grad_fn=<AddBackward0>)  style loss:  tensor(0.2689, device='cuda:0', grad_fn=<MulBackward0>)\n",
      "content loss:  tensor(0.8948, device='cuda:0', grad_fn=<AddBackward0>)  style loss:  tensor(0.2685, device='cuda:0', grad_fn=<MulBackward0>)\n",
      "content loss:  tensor(0.8946, device='cuda:0', grad_fn=<AddBackward0>)  style loss:  tensor(0.2681, device='cuda:0', grad_fn=<MulBackward0>)\n",
      "content loss:  tensor(0.8942, device='cuda:0', grad_fn=<AddBackward0>)  style loss:  tensor(0.2678, device='cuda:0', grad_fn=<MulBackward0>)\n",
      "content loss:  tensor(0.8940, device='cuda:0', grad_fn=<AddBackward0>)  style loss:  tensor(0.2674, device='cuda:0', grad_fn=<MulBackward0>)\n",
      "content loss:  tensor(0.8936, device='cuda:0', grad_fn=<AddBackward0>)  style loss:  tensor(0.2672, device='cuda:0', grad_fn=<MulBackward0>)\n",
      "content loss:  tensor(0.8934, device='cuda:0', grad_fn=<AddBackward0>)  style loss:  tensor(0.2668, device='cuda:0', grad_fn=<MulBackward0>)\n",
      "content loss:  tensor(0.8930, device='cuda:0', grad_fn=<AddBackward0>)  style loss:  tensor(0.2665, device='cuda:0', grad_fn=<MulBackward0>)\n"
     ]
    },
    {
     "name": "stderr",
     "output_type": "stream",
     "text": [
      " 90%|█████████ | 9/10 [00:17<00:01,  1.92s/it]"
     ]
    },
    {
     "name": "stdout",
     "output_type": "stream",
     "text": [
      "content loss:  tensor(0.8928, device='cuda:0', grad_fn=<AddBackward0>)  style loss:  tensor(0.2661, device='cuda:0', grad_fn=<MulBackward0>)\n",
      "content loss:  tensor(0.8924, device='cuda:0', grad_fn=<AddBackward0>)  style loss:  tensor(0.2658, device='cuda:0', grad_fn=<MulBackward0>)\n",
      "content loss:  tensor(0.8922, device='cuda:0', grad_fn=<AddBackward0>)  style loss:  tensor(0.2654, device='cuda:0', grad_fn=<MulBackward0>)\n",
      "content loss:  tensor(0.8920, device='cuda:0', grad_fn=<AddBackward0>)  style loss:  tensor(0.2652, device='cuda:0', grad_fn=<MulBackward0>)\n",
      "content loss:  tensor(0.8917, device='cuda:0', grad_fn=<AddBackward0>)  style loss:  tensor(0.2648, device='cuda:0', grad_fn=<MulBackward0>)\n",
      "content loss:  tensor(0.8915, device='cuda:0', grad_fn=<AddBackward0>)  style loss:  tensor(0.2644, device='cuda:0', grad_fn=<MulBackward0>)\n",
      "content loss:  tensor(0.8912, device='cuda:0', grad_fn=<AddBackward0>)  style loss:  tensor(0.2641, device='cuda:0', grad_fn=<MulBackward0>)\n",
      "content loss:  tensor(0.8910, device='cuda:0', grad_fn=<AddBackward0>)  style loss:  tensor(0.2638, device='cuda:0', grad_fn=<MulBackward0>)\n",
      "content loss:  tensor(0.8907, device='cuda:0', grad_fn=<AddBackward0>)  style loss:  tensor(0.2636, device='cuda:0', grad_fn=<MulBackward0>)\n",
      "content loss:  tensor(0.8905, device='cuda:0', grad_fn=<AddBackward0>)  style loss:  tensor(0.2633, device='cuda:0', grad_fn=<MulBackward0>)\n",
      "content loss:  tensor(0.8902, device='cuda:0', grad_fn=<AddBackward0>)  style loss:  tensor(0.2630, device='cuda:0', grad_fn=<MulBackward0>)\n",
      "content loss:  tensor(0.8899, device='cuda:0', grad_fn=<AddBackward0>)  style loss:  tensor(0.2627, device='cuda:0', grad_fn=<MulBackward0>)\n",
      "content loss:  tensor(0.8897, device='cuda:0', grad_fn=<AddBackward0>)  style loss:  tensor(0.2625, device='cuda:0', grad_fn=<MulBackward0>)\n",
      "content loss:  tensor(0.8894, device='cuda:0', grad_fn=<AddBackward0>)  style loss:  tensor(0.2621, device='cuda:0', grad_fn=<MulBackward0>)\n",
      "content loss:  tensor(0.8893, device='cuda:0', grad_fn=<AddBackward0>)  style loss:  tensor(0.2619, device='cuda:0', grad_fn=<MulBackward0>)\n",
      "content loss:  tensor(0.8890, device='cuda:0', grad_fn=<AddBackward0>)  style loss:  tensor(0.2616, device='cuda:0', grad_fn=<MulBackward0>)\n",
      "content loss:  tensor(0.8889, device='cuda:0', grad_fn=<AddBackward0>)  style loss:  tensor(0.2612, device='cuda:0', grad_fn=<MulBackward0>)\n",
      "content loss:  tensor(0.8886, device='cuda:0', grad_fn=<AddBackward0>)  style loss:  tensor(0.2610, device='cuda:0', grad_fn=<MulBackward0>)\n",
      "content loss:  tensor(0.8885, device='cuda:0', grad_fn=<AddBackward0>)  style loss:  tensor(0.2606, device='cuda:0', grad_fn=<MulBackward0>)\n",
      "content loss:  "
     ]
    },
    {
     "name": "stderr",
     "output_type": "stream",
     "text": [
      "100%|██████████| 10/10 [00:19<00:00,  1.90s/it]"
     ]
    },
    {
     "name": "stdout",
     "output_type": "stream",
     "text": [
      "tensor(0.8882, device='cuda:0', grad_fn=<AddBackward0>)  style loss:  tensor(0.2604, device='cuda:0', grad_fn=<MulBackward0>)\n",
      "content loss:  tensor(0.8880, device='cuda:0', grad_fn=<AddBackward0>)  style loss:  tensor(0.2600, device='cuda:0', grad_fn=<MulBackward0>)\n"
     ]
    },
    {
     "name": "stderr",
     "output_type": "stream",
     "text": [
      "\n"
     ]
    }
   ],
   "source": [
    "for i in tqdm(range(10)):\n",
    "\n",
    "    optimizer.step(compute_losses)\n",
    "\n",
    "    # Clip all values of the image to the range [0,1]\n",
    "    with torch.no_grad():\n",
    "        img.clamp_(0, 1)\n",
    "    \n",
    "    \n",
    "    pil = ToPILImage()(img.squeeze(0).permute(0,2,1))\n",
    "    pil.save(SAVING_PATH)\n"
   ]
  }
 ],
 "metadata": {
  "kernelspec": {
   "display_name": "StyleTransfer",
   "language": "python",
   "name": "python3"
  },
  "language_info": {
   "codemirror_mode": {
    "name": "ipython",
    "version": 3
   },
   "file_extension": ".py",
   "mimetype": "text/x-python",
   "name": "python",
   "nbconvert_exporter": "python",
   "pygments_lexer": "ipython3",
   "version": "3.9.7"
  },
  "orig_nbformat": 4
 },
 "nbformat": 4,
 "nbformat_minor": 2
}
